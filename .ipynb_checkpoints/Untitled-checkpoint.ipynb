{
 "cells": [
  {
   "cell_type": "code",
   "execution_count": 1,
   "id": "04713c04-23c1-4f91-9162-8eb678afa823",
   "metadata": {},
   "outputs": [],
   "source": [
    "from openai import OpenAI\n",
    "client = OpenAI(\n",
    "    base_url=\"http://localhost:8000/v1\",\n",
    ")\n",
    "\n",
    "#from https://modal.com/docs/guide/ex/vllm_inference\n",
    "questions = [\n",
    "    # Coding questions\n",
    "    \"Implement a Python function to compute the Fibonacci numbers.\",\n",
    "    \"Write a Rust function that performs binary exponentiation.\",\n",
    "    \"What are the differences between Javascript and Python?\",\n",
    "    # Literature\n",
    "    \"Write a story in the style of James Joyce about a trip to the Australian outback in 2083, to see robots in the beautiful desert.\",\n",
    "    \"Who does Harry turn into a balloon?\",\n",
    "    \"Write a tale about a time-traveling historian who's determined to witness the most significant events in human history.\",\n",
    "    # Math\n",
    "    \"What is the product of 9 and 8?\",\n",
    "    \"If a train travels 120 kilometers in 2 hours, what is its average speed?\",\n",
    "    \"Think through this step by step. If the sequence a_n is defined by a_1 = 3, a_2 = 5, and a_n = a_(n-1) + a_(n-2) for n > 2, find a_6.\",\n",
    "]"
   ]
  },
  {
   "cell_type": "code",
   "execution_count": 2,
   "id": "e0bc650b-dad5-4839-bcab-989760b96c11",
   "metadata": {},
   "outputs": [],
   "source": [
    "def bench_oai(msg):\n",
    "    completion = client.chat.completions.create(\n",
    "      model=\"meta-llama/Meta-Llama-3.1-405B-Instruct-FP8\",\n",
    "      messages=[\n",
    "        {\"role\": \"user\", \"content\": f\"{msg}\"}\n",
    "      ]\n",
    "    )\n",
    "    return completion.choices[0].message.content\n",
    "\n",
    "res = bench_oai(questions[0])"
   ]
  },
  {
   "cell_type": "code",
   "execution_count": 3,
   "id": "ebe07958-d7d8-4df0-9038-5648c3c93a70",
   "metadata": {},
   "outputs": [],
   "source": [
    "import tiktoken\n",
    "enc = tiktoken.encoding_for_model(\"gpt-4o\")"
   ]
  },
  {
   "cell_type": "code",
   "execution_count": 4,
   "id": "89c65354-5877-4a19-bf78-7644887b6908",
   "metadata": {},
   "outputs": [
    {
     "data": {
      "text/plain": [
       "<Encoding 'o200k_base'>"
      ]
     },
     "execution_count": 4,
     "metadata": {},
     "output_type": "execute_result"
    }
   ],
   "source": [
    "enc"
   ]
  },
  {
   "cell_type": "code",
   "execution_count": 1,
   "id": "fce06eae-107b-4e72-b70c-0bf9157f73ca",
   "metadata": {},
   "outputs": [],
   "source": [
    "import os\n",
    "from fireworks.client import Fireworks\n",
    "client = Fireworks(api_key=\"Reg9hpgMyzdQeOQwCJkpGOmgCkp6mHrzEWmsNrybmpFWIVx0\")\n"
   ]
  },
  {
   "cell_type": "code",
   "execution_count": 4,
   "id": "d8aa749c-54eb-4c2d-8dbb-ffc643cbde73",
   "metadata": {},
   "outputs": [],
   "source": [
    "completion = client.chat.completions.create(\n",
    "    model=\"accounts/fireworks/models/llama-v3p1-405b-instruct\",\n",
    "    messages=[\n",
    "        {\"role\": \"user\", \"content\": \"hello\"}\n",
    "    ],\n",
    "    temperature=0.0\n",
    ")"
   ]
  },
  {
   "cell_type": "code",
   "execution_count": null,
   "id": "ab53633f-03cd-44af-8ab6-cb012810f1bd",
   "metadata": {},
   "outputs": [],
   "source": []
  }
 ],
 "metadata": {
  "kernelspec": {
   "display_name": "Python 3 (ipykernel)",
   "language": "python",
   "name": "python3"
  },
  "language_info": {
   "codemirror_mode": {
    "name": "ipython",
    "version": 3
   },
   "file_extension": ".py",
   "mimetype": "text/x-python",
   "name": "python",
   "nbconvert_exporter": "python",
   "pygments_lexer": "ipython3",
   "version": "3.11.9"
  }
 },
 "nbformat": 4,
 "nbformat_minor": 5
}
